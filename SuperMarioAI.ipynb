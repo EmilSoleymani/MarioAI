{
 "cells": [
  {
   "cell_type": "markdown",
   "id": "3424d67c",
   "metadata": {},
   "source": [
    "# Super Mario Bros AI\n",
    "\n",
    "Super Mario Bros AI Model built in Python based on [this tutorial](https://youtu.be/2eeYqJ0uBKE)\n",
    "\n",
    "## Setup Super Mario\n",
    "\n",
    "First setup the Mario Environment\n",
    "\n",
    "#### Dependencies"
   ]
  },
  {
   "cell_type": "code",
   "execution_count": 1,
   "id": "d3107510",
   "metadata": {},
   "outputs": [
    {
     "name": "stdout",
     "output_type": "stream",
     "text": [
      "Requirement already satisfied: gym_super_mario_bros in /Library/Frameworks/Python.framework/Versions/3.8/lib/python3.8/site-packages (7.3.0)\n",
      "Requirement already satisfied: nes_py in /Library/Frameworks/Python.framework/Versions/3.8/lib/python3.8/site-packages (8.2.1)\n",
      "Requirement already satisfied: gym>=0.17.2 in /Library/Frameworks/Python.framework/Versions/3.8/lib/python3.8/site-packages (from nes_py) (0.24.1)\n",
      "Requirement already satisfied: numpy>=1.18.5 in /Library/Frameworks/Python.framework/Versions/3.8/lib/python3.8/site-packages (from nes_py) (1.23.1)\n",
      "Requirement already satisfied: pyglet<=1.5.21,>=1.4.0 in /Library/Frameworks/Python.framework/Versions/3.8/lib/python3.8/site-packages (from nes_py) (1.5.21)\n",
      "Requirement already satisfied: tqdm>=4.48.2 in /Library/Frameworks/Python.framework/Versions/3.8/lib/python3.8/site-packages (from nes_py) (4.64.0)\n",
      "Requirement already satisfied: importlib-metadata>=4.8.0 in /Library/Frameworks/Python.framework/Versions/3.8/lib/python3.8/site-packages (from gym>=0.17.2->nes_py) (4.12.0)\n",
      "Requirement already satisfied: cloudpickle>=1.2.0 in /Library/Frameworks/Python.framework/Versions/3.8/lib/python3.8/site-packages (from gym>=0.17.2->nes_py) (2.1.0)\n",
      "Requirement already satisfied: gym-notices>=0.0.4 in /Library/Frameworks/Python.framework/Versions/3.8/lib/python3.8/site-packages (from gym>=0.17.2->nes_py) (0.0.7)\n",
      "Requirement already satisfied: zipp>=0.5 in /Library/Frameworks/Python.framework/Versions/3.8/lib/python3.8/site-packages (from importlib-metadata>=4.8.0->gym>=0.17.2->nes_py) (3.8.0)\n",
      "\u001b[33mWARNING: There was an error checking the latest version of pip.\u001b[0m\u001b[33m\n",
      "\u001b[0m"
     ]
    }
   ],
   "source": [
    "!pip install gym_super_mario_bros nes_py"
   ]
  },
  {
   "cell_type": "code",
   "execution_count": 2,
   "id": "b94d8fe0",
   "metadata": {},
   "outputs": [],
   "source": [
    "from nes_py.wrappers import JoypadSpace  # Import Joypad Wrapper\n",
    "import gym_super_mario_bros  # Import game\n",
    "from gym_super_mario_bros.actions import SIMPLE_MOVEMENT # Import simplified controls"
   ]
  },
  {
   "cell_type": "markdown",
   "id": "fd52440f",
   "metadata": {},
   "source": [
    "It is always important to simplify controls as much as possible when making an AI for a game. See list of controls provided by `SIMPLE_MOVEMENT` below"
   ]
  },
  {
   "cell_type": "code",
   "execution_count": 3,
   "id": "d0b02286",
   "metadata": {},
   "outputs": [
    {
     "data": {
      "text/plain": [
       "[['NOOP'],\n",
       " ['right'],\n",
       " ['right', 'A'],\n",
       " ['right', 'B'],\n",
       " ['right', 'A', 'B'],\n",
       " ['A'],\n",
       " ['left']]"
      ]
     },
     "execution_count": 3,
     "metadata": {},
     "output_type": "execute_result"
    }
   ],
   "source": [
    "SIMPLE_MOVEMENT"
   ]
  },
  {
   "cell_type": "markdown",
   "id": "d387d9fb",
   "metadata": {},
   "source": [
    "Now, setup `Super Mario` environment"
   ]
  },
  {
   "cell_type": "code",
   "execution_count": 4,
   "id": "bb161854",
   "metadata": {},
   "outputs": [
    {
     "name": "stderr",
     "output_type": "stream",
     "text": [
      "/Library/Frameworks/Python.framework/Versions/3.8/lib/python3.8/site-packages/gym/envs/registration.py:564: UserWarning: \u001b[33mWARN: The environment SuperMarioBros-v0 is out of date. You should consider upgrading to version `v3`.\u001b[0m\n",
      "  logger.warn(\n",
      "/Library/Frameworks/Python.framework/Versions/3.8/lib/python3.8/site-packages/gym/utils/passive_env_checker.py:97: UserWarning: \u001b[33mWARN: We recommend you to use a symmetric and normalized Box action space (range=[-1, 1]) https://stable-baselines3.readthedocs.io/en/master/guide/rl_tips.html\u001b[0m\n",
      "  logger.warn(\n"
     ]
    }
   ],
   "source": [
    "# Setup game\n",
    "env = gym_super_mario_bros.make('SuperMarioBros-v0')  # Check docs for other versions\n",
    "env = JoypadSpace(env, SIMPLE_MOVEMENT)\n",
    "\n",
    "# env.action_space now only has 7 possible actions (the 7 simplified moves)\n",
    "# env.observation_space shows what's going on in the screen (in our case 240x256 pixels x 3 frames)"
   ]
  },
  {
   "cell_type": "code",
   "execution_count": 5,
   "id": "bf276d12",
   "metadata": {},
   "outputs": [
    {
     "name": "stderr",
     "output_type": "stream",
     "text": [
      "/Library/Frameworks/Python.framework/Versions/3.8/lib/python3.8/site-packages/gym/utils/passive_env_checker.py:297: UserWarning: \u001b[33mWARN: No render modes was declared in the environment (env.metadata['render_modes'] is None or not defined), you may have trouble when calling `.render()`\u001b[0m\n",
      "  logger.warn(\n",
      "/Library/Frameworks/Python.framework/Versions/3.8/lib/python3.8/site-packages/gym/utils/passive_env_checker.py:305: UserWarning: \u001b[33mWARN: No render fps was declared in the environment (env.metadata['render_fps'] is None or not defined), rendering may occur at inconsistent fps\u001b[0m\n",
      "  logger.warn(\n",
      "2022-07-26 19:49:10.618 Python[3956:166498] ApplePersistenceIgnoreState: Existing state will not be touched. New state will be written to /var/folders/f1/hs7h_prd4hz4drcqrr_jv0xh0000gn/T/org.python.python.savedState\n",
      "/Library/Frameworks/Python.framework/Versions/3.8/lib/python3.8/site-packages/gym_super_mario_bros/smb_env.py:148: RuntimeWarning: overflow encountered in ubyte_scalars\n",
      "  return (self.ram[0x86] - self.ram[0x071c]) % 256\n"
     ]
    },
    {
     "name": "stdout",
     "output_type": "stream",
     "text": [
      "Done\n"
     ]
    }
   ],
   "source": [
    "# Create a flag to know when to restart\n",
    "done = True\n",
    "for step in range(1000):\n",
    "    if done:\n",
    "        env.reset()\n",
    "    # Does random actions\n",
    "    state, reward, done, info = env.step(env.action_space.sample())\n",
    "    env.render()  # Show game\n",
    "\n",
    "env.close()  # Closes at game\n",
    "print(\"Done\")"
   ]
  },
  {
   "cell_type": "markdown",
   "id": "b73a6414",
   "metadata": {},
   "source": [
    "## Preprocessing\n",
    "\n",
    "In this stage, we will *grayscale* the frames. Colored images carry 3 times as much data, which will take too long to process. We will also do *frame stacking*, which kind of gives the AI **memory** (it can see stuff like velocity of enemies, etc...)"
   ]
  },
  {
   "cell_type": "code",
   "execution_count": null,
   "id": "6f71422c",
   "metadata": {},
   "outputs": [],
   "source": [
    "# Import FrameStack Wrapper and Grayscale Wrapper\n",
    "from gym.wrappers import FrameStack, GrayScaleObservation\n",
    "\n",
    "# Import Vectorization Wrappers\n",
    "from stable_baselines3.common.vec_env import VecFrameStack, DummyVecEnv\n",
    "\n",
    "# Import matplotlib for visualization\n",
    "from matplotlib import pyplot as plt\n",
    "\n"
   ]
  }
 ],
 "metadata": {
  "kernelspec": {
   "display_name": "Python 3 (ipykernel)",
   "language": "python",
   "name": "python3"
  },
  "language_info": {
   "codemirror_mode": {
    "name": "ipython",
    "version": 3
   },
   "file_extension": ".py",
   "mimetype": "text/x-python",
   "name": "python",
   "nbconvert_exporter": "python",
   "pygments_lexer": "ipython3",
   "version": "3.8.0"
  }
 },
 "nbformat": 4,
 "nbformat_minor": 5
}
